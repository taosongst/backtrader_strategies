{
 "cells": [
  {
   "cell_type": "code",
   "execution_count": 286,
   "id": "7f1476c8",
   "metadata": {},
   "outputs": [],
   "source": [
    "import pandas as pd\n",
    "import numpy as np\n",
    "from sklearn.tree import DecisionTreeClassifier,export_graphviz\n",
    "from sklearn.model_selection import train_test_split\n",
    "from sklearn.metrics import accuracy_score\n",
    "import pydotplus\n",
    "from sklearn.ensemble import RandomForestClassifier\n",
    "# from sklearn.externals import \n",
    "from sklearn.svm import SVC\n",
    "from sklearn.feature_selection import SelectFromModel\n",
    "import xgboost as xgb\n",
    "from sklearn.model_selection import GridSearchCV\n",
    "import warnings\n",
    "warnings.simplefilter(\"ignore\")"
   ]
  },
  {
   "cell_type": "markdown",
   "id": "43914bac",
   "metadata": {},
   "source": [
    "### Building Dataset"
   ]
  },
  {
   "cell_type": "code",
   "execution_count": 12,
   "id": "0b58cb5b",
   "metadata": {},
   "outputs": [],
   "source": [
    "model=DecisionTreeClassifier(min_samples_leaf=10, max_depth=6, min_impurity_decrease=0.001)"
   ]
  },
  {
   "cell_type": "code",
   "execution_count": 13,
   "id": "5da57db1",
   "metadata": {},
   "outputs": [],
   "source": [
    "features=pd.read_csv('BigCapFeatures.csv')\n",
    "# targets=pd.concat([pd.read_csv('momentumeEffect.csv'), pd.read_csv(\"momentumeEffect5.csv\")])\n",
    "targets=pd.read_csv('BigCapMomentum.csv')\n",
    "targets.drop_duplicates(['ticker'],keep='first',inplace=True)"
   ]
  },
  {
   "cell_type": "code",
   "execution_count": 14,
   "id": "9f26571b",
   "metadata": {},
   "outputs": [],
   "source": [
    "preYearFeatures=pd.read_csv('BigCapMomentum2017.csv')"
   ]
  },
  {
   "cell_type": "code",
   "execution_count": 282,
   "id": "2989d8b5",
   "metadata": {},
   "outputs": [
    {
     "data": {
      "text/html": [
       "<div>\n",
       "<style scoped>\n",
       "    .dataframe tbody tr th:only-of-type {\n",
       "        vertical-align: middle;\n",
       "    }\n",
       "\n",
       "    .dataframe tbody tr th {\n",
       "        vertical-align: top;\n",
       "    }\n",
       "\n",
       "    .dataframe thead th {\n",
       "        text-align: right;\n",
       "    }\n",
       "</style>\n",
       "<table border=\"1\" class=\"dataframe\">\n",
       "  <thead>\n",
       "    <tr style=\"text-align: right;\">\n",
       "      <th></th>\n",
       "      <th>Unnamed: 0</th>\n",
       "      <th>Symbol</th>\n",
       "      <th>min_1</th>\n",
       "      <th>max_1</th>\n",
       "      <th>var_1</th>\n",
       "      <th>max_1_peroids</th>\n",
       "      <th>buyHold_1</th>\n",
       "      <th>maxDrawBack</th>\n",
       "      <th>preYearMomentum</th>\n",
       "    </tr>\n",
       "  </thead>\n",
       "  <tbody>\n",
       "    <tr>\n",
       "      <th>0</th>\n",
       "      <td>0</td>\n",
       "      <td>A</td>\n",
       "      <td>-0.087603</td>\n",
       "      <td>0.138202</td>\n",
       "      <td>2.927907</td>\n",
       "      <td>(13, 60)</td>\n",
       "      <td>46.962768</td>\n",
       "      <td>6.217640</td>\n",
       "      <td>0</td>\n",
       "    </tr>\n",
       "    <tr>\n",
       "      <th>1</th>\n",
       "      <td>0</td>\n",
       "      <td>ABMD</td>\n",
       "      <td>0.000000</td>\n",
       "      <td>0.237624</td>\n",
       "      <td>3.209953</td>\n",
       "      <td>(1, 60)</td>\n",
       "      <td>69.296377</td>\n",
       "      <td>6.028203</td>\n",
       "      <td>1</td>\n",
       "    </tr>\n",
       "    <tr>\n",
       "      <th>2</th>\n",
       "      <td>0</td>\n",
       "      <td>AAP</td>\n",
       "      <td>-0.070361</td>\n",
       "      <td>0.116333</td>\n",
       "      <td>2.797046</td>\n",
       "      <td>(11, 50)</td>\n",
       "      <td>-41.532967</td>\n",
       "      <td>5.674570</td>\n",
       "      <td>0</td>\n",
       "    </tr>\n",
       "  </tbody>\n",
       "</table>\n",
       "</div>"
      ],
      "text/plain": [
       "   Unnamed: 0 Symbol     min_1     max_1     var_1 max_1_peroids  buyHold_1  \\\n",
       "0           0      A -0.087603  0.138202  2.927907      (13, 60)  46.962768   \n",
       "1           0   ABMD  0.000000  0.237624  3.209953       (1, 60)  69.296377   \n",
       "2           0    AAP -0.070361  0.116333  2.797046      (11, 50) -41.532967   \n",
       "\n",
       "   maxDrawBack  preYearMomentum  \n",
       "0     6.217640                0  \n",
       "1     6.028203                1  \n",
       "2     5.674570                0  "
      ]
     },
     "execution_count": 282,
     "metadata": {},
     "output_type": "execute_result"
    }
   ],
   "source": [
    "preYearFeatures.head(3)"
   ]
  },
  {
   "cell_type": "code",
   "execution_count": 16,
   "id": "d74e795f",
   "metadata": {},
   "outputs": [],
   "source": [
    "preYearFeatures['preYearMomentum']=preYearFeatures[['min_1','max_1','var_1']].apply(lambda x: 1 if (x[0]+x[1]>=0 and x[1]>=0.15 and x[2]<=12 ) else (-1 if (x[0]<= -0.15 and x[2]<=12) else 0), axis=1)\n",
    "preYearFeatures.rename({'ticker':'Symbol'}, axis=1, inplace=True)"
   ]
  },
  {
   "cell_type": "code",
   "execution_count": 17,
   "id": "ee34d8ea",
   "metadata": {},
   "outputs": [
    {
     "data": {
      "text/html": [
       "<div>\n",
       "<style scoped>\n",
       "    .dataframe tbody tr th:only-of-type {\n",
       "        vertical-align: middle;\n",
       "    }\n",
       "\n",
       "    .dataframe tbody tr th {\n",
       "        vertical-align: top;\n",
       "    }\n",
       "\n",
       "    .dataframe thead th {\n",
       "        text-align: right;\n",
       "    }\n",
       "</style>\n",
       "<table border=\"1\" class=\"dataframe\">\n",
       "  <thead>\n",
       "    <tr style=\"text-align: right;\">\n",
       "      <th></th>\n",
       "      <th>Unnamed: 0</th>\n",
       "      <th>Symbol</th>\n",
       "      <th>min_1</th>\n",
       "      <th>max_1</th>\n",
       "      <th>var_1</th>\n",
       "      <th>max_1_peroids</th>\n",
       "      <th>buyHold_1</th>\n",
       "      <th>maxDrawBack</th>\n",
       "      <th>preYearMomentum</th>\n",
       "    </tr>\n",
       "  </thead>\n",
       "  <tbody>\n",
       "    <tr>\n",
       "      <th>0</th>\n",
       "      <td>0</td>\n",
       "      <td>A</td>\n",
       "      <td>-0.087603</td>\n",
       "      <td>0.138202</td>\n",
       "      <td>2.927907</td>\n",
       "      <td>(13, 60)</td>\n",
       "      <td>46.962768</td>\n",
       "      <td>6.217640</td>\n",
       "      <td>0</td>\n",
       "    </tr>\n",
       "    <tr>\n",
       "      <th>1</th>\n",
       "      <td>0</td>\n",
       "      <td>ABMD</td>\n",
       "      <td>0.000000</td>\n",
       "      <td>0.237624</td>\n",
       "      <td>3.209953</td>\n",
       "      <td>(1, 60)</td>\n",
       "      <td>69.296377</td>\n",
       "      <td>6.028203</td>\n",
       "      <td>1</td>\n",
       "    </tr>\n",
       "    <tr>\n",
       "      <th>2</th>\n",
       "      <td>0</td>\n",
       "      <td>AAP</td>\n",
       "      <td>-0.070361</td>\n",
       "      <td>0.116333</td>\n",
       "      <td>2.797046</td>\n",
       "      <td>(11, 50)</td>\n",
       "      <td>-41.532967</td>\n",
       "      <td>5.674570</td>\n",
       "      <td>0</td>\n",
       "    </tr>\n",
       "  </tbody>\n",
       "</table>\n",
       "</div>"
      ],
      "text/plain": [
       "   Unnamed: 0 Symbol     min_1     max_1     var_1 max_1_peroids  buyHold_1  \\\n",
       "0           0      A -0.087603  0.138202  2.927907      (13, 60)  46.962768   \n",
       "1           0   ABMD  0.000000  0.237624  3.209953       (1, 60)  69.296377   \n",
       "2           0    AAP -0.070361  0.116333  2.797046      (11, 50) -41.532967   \n",
       "\n",
       "   maxDrawBack  preYearMomentum  \n",
       "0     6.217640                0  \n",
       "1     6.028203                1  \n",
       "2     5.674570                0  "
      ]
     },
     "execution_count": 17,
     "metadata": {},
     "output_type": "execute_result"
    }
   ],
   "source": [
    "preYearFeatures.head(3)"
   ]
  },
  {
   "cell_type": "code",
   "execution_count": 283,
   "id": "77a7c1d8",
   "metadata": {},
   "outputs": [
    {
     "data": {
      "text/html": [
       "<div>\n",
       "<style scoped>\n",
       "    .dataframe tbody tr th:only-of-type {\n",
       "        vertical-align: middle;\n",
       "    }\n",
       "\n",
       "    .dataframe tbody tr th {\n",
       "        vertical-align: top;\n",
       "    }\n",
       "\n",
       "    .dataframe thead th {\n",
       "        text-align: right;\n",
       "    }\n",
       "</style>\n",
       "<table border=\"1\" class=\"dataframe\">\n",
       "  <thead>\n",
       "    <tr style=\"text-align: right;\">\n",
       "      <th></th>\n",
       "      <th>Unnamed: 0</th>\n",
       "      <th>Symbol</th>\n",
       "      <th>PE</th>\n",
       "      <th>EPSGrowth</th>\n",
       "      <th>RevenueGrowth</th>\n",
       "      <th>logMarketCap</th>\n",
       "      <th>PS</th>\n",
       "      <th>Sector</th>\n",
       "      <th>Sharpe</th>\n",
       "      <th>std</th>\n",
       "      <th>LiquidityRate</th>\n",
       "      <th>CorWithBenchMark</th>\n",
       "    </tr>\n",
       "  </thead>\n",
       "  <tbody>\n",
       "    <tr>\n",
       "      <th>0</th>\n",
       "      <td>0</td>\n",
       "      <td>A</td>\n",
       "      <td>28.447257</td>\n",
       "      <td>0.196970</td>\n",
       "      <td>0.064255</td>\n",
       "      <td>10</td>\n",
       "      <td>4.684263</td>\n",
       "      <td>Healthcare</td>\n",
       "      <td>2.675440</td>\n",
       "      <td>0.164655</td>\n",
       "      <td>0.520762</td>\n",
       "      <td>0.437042</td>\n",
       "    </tr>\n",
       "    <tr>\n",
       "      <th>1</th>\n",
       "      <td>0</td>\n",
       "      <td>AA</td>\n",
       "      <td>17.960133</td>\n",
       "      <td>2.409606</td>\n",
       "      <td>0.250483</td>\n",
       "      <td>10</td>\n",
       "      <td>0.945171</td>\n",
       "      <td>Basic Materials</td>\n",
       "      <td>2.329636</td>\n",
       "      <td>0.372822</td>\n",
       "      <td>1.436134</td>\n",
       "      <td>0.346086</td>\n",
       "    </tr>\n",
       "    <tr>\n",
       "      <th>2</th>\n",
       "      <td>0</td>\n",
       "      <td>AACG</td>\n",
       "      <td>-7.536467</td>\n",
       "      <td>-0.000000</td>\n",
       "      <td>0.037413</td>\n",
       "      <td>8</td>\n",
       "      <td>0.329082</td>\n",
       "      <td>Consumer Defensive</td>\n",
       "      <td>0.343638</td>\n",
       "      <td>0.502240</td>\n",
       "      <td>0.036839</td>\n",
       "      <td>0.145524</td>\n",
       "    </tr>\n",
       "  </tbody>\n",
       "</table>\n",
       "</div>"
      ],
      "text/plain": [
       "   Unnamed: 0 Symbol         PE  EPSGrowth  RevenueGrowth  logMarketCap  \\\n",
       "0           0      A  28.447257   0.196970       0.064255            10   \n",
       "1           0     AA  17.960133   2.409606       0.250483            10   \n",
       "2           0   AACG  -7.536467  -0.000000       0.037413             8   \n",
       "\n",
       "         PS              Sector    Sharpe       std  LiquidityRate  \\\n",
       "0  4.684263          Healthcare  2.675440  0.164655       0.520762   \n",
       "1  0.945171     Basic Materials  2.329636  0.372822       1.436134   \n",
       "2  0.329082  Consumer Defensive  0.343638  0.502240       0.036839   \n",
       "\n",
       "   CorWithBenchMark  \n",
       "0          0.437042  \n",
       "1          0.346086  \n",
       "2          0.145524  "
      ]
     },
     "execution_count": 283,
     "metadata": {},
     "output_type": "execute_result"
    }
   ],
   "source": [
    "features.head(3)"
   ]
  },
  {
   "cell_type": "code",
   "execution_count": 284,
   "id": "6cb08863",
   "metadata": {},
   "outputs": [
    {
     "data": {
      "text/html": [
       "<div>\n",
       "<style scoped>\n",
       "    .dataframe tbody tr th:only-of-type {\n",
       "        vertical-align: middle;\n",
       "    }\n",
       "\n",
       "    .dataframe tbody tr th {\n",
       "        vertical-align: top;\n",
       "    }\n",
       "\n",
       "    .dataframe thead th {\n",
       "        text-align: right;\n",
       "    }\n",
       "</style>\n",
       "<table border=\"1\" class=\"dataframe\">\n",
       "  <thead>\n",
       "    <tr style=\"text-align: right;\">\n",
       "      <th></th>\n",
       "      <th>Unnamed: 0</th>\n",
       "      <th>Symbol</th>\n",
       "      <th>min_1</th>\n",
       "      <th>max_1</th>\n",
       "      <th>var_1</th>\n",
       "      <th>max_1_peroids</th>\n",
       "      <th>buyHold_1</th>\n",
       "      <th>maxDrawBack</th>\n",
       "      <th>MomentumEffect</th>\n",
       "    </tr>\n",
       "  </thead>\n",
       "  <tbody>\n",
       "    <tr>\n",
       "      <th>0</th>\n",
       "      <td>0</td>\n",
       "      <td>A</td>\n",
       "      <td>-0.336212</td>\n",
       "      <td>-0.045040</td>\n",
       "      <td>6.318015</td>\n",
       "      <td>(11, 140)</td>\n",
       "      <td>-1.601901</td>\n",
       "      <td>13.808617</td>\n",
       "      <td>-1</td>\n",
       "    </tr>\n",
       "    <tr>\n",
       "      <th>1</th>\n",
       "      <td>0</td>\n",
       "      <td>AAL</td>\n",
       "      <td>-0.286046</td>\n",
       "      <td>0.098800</td>\n",
       "      <td>9.119530</td>\n",
       "      <td>(5, 50)</td>\n",
       "      <td>-38.677625</td>\n",
       "      <td>11.761279</td>\n",
       "      <td>-1</td>\n",
       "    </tr>\n",
       "    <tr>\n",
       "      <th>2</th>\n",
       "      <td>0</td>\n",
       "      <td>AAP</td>\n",
       "      <td>-0.042957</td>\n",
       "      <td>0.420985</td>\n",
       "      <td>11.629514</td>\n",
       "      <td>(3, 80)</td>\n",
       "      <td>54.658078</td>\n",
       "      <td>8.799882</td>\n",
       "      <td>1</td>\n",
       "    </tr>\n",
       "  </tbody>\n",
       "</table>\n",
       "</div>"
      ],
      "text/plain": [
       "   Unnamed: 0 Symbol     min_1     max_1      var_1 max_1_peroids  buyHold_1  \\\n",
       "0           0      A -0.336212 -0.045040   6.318015     (11, 140)  -1.601901   \n",
       "1           0    AAL -0.286046  0.098800   9.119530       (5, 50) -38.677625   \n",
       "2           0    AAP -0.042957  0.420985  11.629514       (3, 80)  54.658078   \n",
       "\n",
       "   maxDrawBack  MomentumEffect  \n",
       "0    13.808617              -1  \n",
       "1    11.761279              -1  \n",
       "2     8.799882               1  "
      ]
     },
     "execution_count": 284,
     "metadata": {},
     "output_type": "execute_result"
    }
   ],
   "source": [
    "targets.head(3)"
   ]
  },
  {
   "cell_type": "code",
   "execution_count": 20,
   "id": "3ee266e5",
   "metadata": {},
   "outputs": [],
   "source": [
    "targets['MomentumEffect']=targets[['min_1','max_1','var_1']].apply(lambda x: 1 if (x[0]+x[1]>=0 and x[1]>=0.15 and x[2]<=12 ) else (-1 if (x[0]<= -0.15 and x[2]<=12) else 0), axis=1)"
   ]
  },
  {
   "cell_type": "code",
   "execution_count": 21,
   "id": "b83d327c",
   "metadata": {},
   "outputs": [
    {
     "data": {
      "text/plain": [
       "0.25    4.466506\n",
       "0.50    5.856409\n",
       "0.75    7.798617\n",
       "Name: var_1, dtype: float64"
      ]
     },
     "execution_count": 21,
     "metadata": {},
     "output_type": "execute_result"
    }
   ],
   "source": [
    "targets['var_1'].quantile([0.25, 0.5, 0.75])"
   ]
  },
  {
   "cell_type": "code",
   "execution_count": 22,
   "id": "0bb01905",
   "metadata": {},
   "outputs": [],
   "source": [
    "targets.rename({'ticker':'Symbol'}, axis=1, inplace=True)"
   ]
  },
  {
   "cell_type": "code",
   "execution_count": 23,
   "id": "c17d4cb4",
   "metadata": {},
   "outputs": [],
   "source": [
    "combined=pd.merge(features, targets, how='inner', on=['Symbol'])\n",
    "combined=pd.merge(combined, preYearFeatures[['Symbol','preYearMomentum']], how='inner', on=['Symbol'])"
   ]
  },
  {
   "cell_type": "code",
   "execution_count": 287,
   "id": "81914934",
   "metadata": {},
   "outputs": [
    {
     "data": {
      "text/html": [
       "<div>\n",
       "<style scoped>\n",
       "    .dataframe tbody tr th:only-of-type {\n",
       "        vertical-align: middle;\n",
       "    }\n",
       "\n",
       "    .dataframe tbody tr th {\n",
       "        vertical-align: top;\n",
       "    }\n",
       "\n",
       "    .dataframe thead th {\n",
       "        text-align: right;\n",
       "    }\n",
       "</style>\n",
       "<table border=\"1\" class=\"dataframe\">\n",
       "  <thead>\n",
       "    <tr style=\"text-align: right;\">\n",
       "      <th></th>\n",
       "      <th>Unnamed: 0_x</th>\n",
       "      <th>Symbol</th>\n",
       "      <th>PE</th>\n",
       "      <th>EPSGrowth</th>\n",
       "      <th>RevenueGrowth</th>\n",
       "      <th>logMarketCap</th>\n",
       "      <th>PS</th>\n",
       "      <th>Sector</th>\n",
       "      <th>Sharpe</th>\n",
       "      <th>std</th>\n",
       "      <th>...</th>\n",
       "      <th>preYearMomentum</th>\n",
       "      <th>Year</th>\n",
       "      <th>PE_category</th>\n",
       "      <th>PS_category</th>\n",
       "      <th>std_category</th>\n",
       "      <th>CorWithBenchMark_category</th>\n",
       "      <th>Sharpe_category</th>\n",
       "      <th>RevenueGrowth_category</th>\n",
       "      <th>LiquidityRate_category</th>\n",
       "      <th>preYearMomentum_category</th>\n",
       "    </tr>\n",
       "  </thead>\n",
       "  <tbody>\n",
       "    <tr>\n",
       "      <th>0</th>\n",
       "      <td>0</td>\n",
       "      <td>A</td>\n",
       "      <td>28.447257</td>\n",
       "      <td>0.196970</td>\n",
       "      <td>0.064255</td>\n",
       "      <td>10</td>\n",
       "      <td>4.684263</td>\n",
       "      <td>Healthcare</td>\n",
       "      <td>2.675440</td>\n",
       "      <td>0.164655</td>\n",
       "      <td>...</td>\n",
       "      <td>0</td>\n",
       "      <td>2018</td>\n",
       "      <td>Low</td>\n",
       "      <td>1</td>\n",
       "      <td>-1</td>\n",
       "      <td>1</td>\n",
       "      <td>1</td>\n",
       "      <td>-1</td>\n",
       "      <td>1</td>\n",
       "      <td>1</td>\n",
       "    </tr>\n",
       "    <tr>\n",
       "      <th>1</th>\n",
       "      <td>0</td>\n",
       "      <td>AAL</td>\n",
       "      <td>10.679592</td>\n",
       "      <td>-0.140351</td>\n",
       "      <td>0.050448</td>\n",
       "      <td>10</td>\n",
       "      <td>0.793000</td>\n",
       "      <td>Industrials</td>\n",
       "      <td>0.431699</td>\n",
       "      <td>0.286677</td>\n",
       "      <td>...</td>\n",
       "      <td>-1</td>\n",
       "      <td>2018</td>\n",
       "      <td>High</td>\n",
       "      <td>-1</td>\n",
       "      <td>1</td>\n",
       "      <td>1</td>\n",
       "      <td>-1</td>\n",
       "      <td>-1</td>\n",
       "      <td>1</td>\n",
       "      <td>-1</td>\n",
       "    </tr>\n",
       "    <tr>\n",
       "      <th>2</th>\n",
       "      <td>0</td>\n",
       "      <td>AAP</td>\n",
       "      <td>18.754647</td>\n",
       "      <td>-0.246499</td>\n",
       "      <td>-0.020266</td>\n",
       "      <td>9</td>\n",
       "      <td>0.719693</td>\n",
       "      <td>Consumer Cyclical</td>\n",
       "      <td>-1.026959</td>\n",
       "      <td>0.404739</td>\n",
       "      <td>...</td>\n",
       "      <td>0</td>\n",
       "      <td>2018</td>\n",
       "      <td>Low</td>\n",
       "      <td>-1</td>\n",
       "      <td>1</td>\n",
       "      <td>-1</td>\n",
       "      <td>-1</td>\n",
       "      <td>-1</td>\n",
       "      <td>1</td>\n",
       "      <td>1</td>\n",
       "    </tr>\n",
       "  </tbody>\n",
       "</table>\n",
       "<p>3 rows × 30 columns</p>\n",
       "</div>"
      ],
      "text/plain": [
       "   Unnamed: 0_x Symbol         PE  EPSGrowth  RevenueGrowth  logMarketCap  \\\n",
       "0             0      A  28.447257   0.196970       0.064255            10   \n",
       "1             0    AAL  10.679592  -0.140351       0.050448            10   \n",
       "2             0    AAP  18.754647  -0.246499      -0.020266             9   \n",
       "\n",
       "         PS             Sector    Sharpe       std  ...  preYearMomentum  \\\n",
       "0  4.684263         Healthcare  2.675440  0.164655  ...                0   \n",
       "1  0.793000        Industrials  0.431699  0.286677  ...               -1   \n",
       "2  0.719693  Consumer Cyclical -1.026959  0.404739  ...                0   \n",
       "\n",
       "   Year  PE_category  PS_category  std_category  CorWithBenchMark_category  \\\n",
       "0  2018          Low            1            -1                          1   \n",
       "1  2018         High           -1             1                          1   \n",
       "2  2018          Low           -1             1                         -1   \n",
       "\n",
       "  Sharpe_category  RevenueGrowth_category  LiquidityRate_category  \\\n",
       "0               1                      -1                       1   \n",
       "1              -1                      -1                       1   \n",
       "2              -1                      -1                       1   \n",
       "\n",
       "   preYearMomentum_category  \n",
       "0                         1  \n",
       "1                        -1  \n",
       "2                         1  \n",
       "\n",
       "[3 rows x 30 columns]"
      ]
     },
     "execution_count": 287,
     "metadata": {},
     "output_type": "execute_result"
    }
   ],
   "source": [
    "combined['Year']=2018\n",
    "combined.head(3)"
   ]
  },
  {
   "cell_type": "code",
   "execution_count": 25,
   "id": "9496c40b",
   "metadata": {},
   "outputs": [],
   "source": [
    "combined.to_csv('Training2018.csv')"
   ]
  },
  {
   "cell_type": "code",
   "execution_count": 289,
   "id": "81b54f77",
   "metadata": {},
   "outputs": [
    {
     "data": {
      "text/html": [
       "<div>\n",
       "<style scoped>\n",
       "    .dataframe tbody tr th:only-of-type {\n",
       "        vertical-align: middle;\n",
       "    }\n",
       "\n",
       "    .dataframe tbody tr th {\n",
       "        vertical-align: top;\n",
       "    }\n",
       "\n",
       "    .dataframe thead th {\n",
       "        text-align: right;\n",
       "    }\n",
       "</style>\n",
       "<table border=\"1\" class=\"dataframe\">\n",
       "  <thead>\n",
       "    <tr style=\"text-align: right;\">\n",
       "      <th></th>\n",
       "      <th>preYearMomentum</th>\n",
       "      <th>MomentumEffect</th>\n",
       "    </tr>\n",
       "  </thead>\n",
       "  <tbody>\n",
       "    <tr>\n",
       "      <th>0</th>\n",
       "      <td>0</td>\n",
       "      <td>-1</td>\n",
       "    </tr>\n",
       "    <tr>\n",
       "      <th>1</th>\n",
       "      <td>-1</td>\n",
       "      <td>-1</td>\n",
       "    </tr>\n",
       "    <tr>\n",
       "      <th>2</th>\n",
       "      <td>0</td>\n",
       "      <td>1</td>\n",
       "    </tr>\n",
       "  </tbody>\n",
       "</table>\n",
       "</div>"
      ],
      "text/plain": [
       "   preYearMomentum  MomentumEffect\n",
       "0                0              -1\n",
       "1               -1              -1\n",
       "2                0               1"
      ]
     },
     "execution_count": 289,
     "metadata": {},
     "output_type": "execute_result"
    }
   ],
   "source": [
    "combined.loc[:,['preYearMomentum','MomentumEffect']].head(3)"
   ]
  },
  {
   "cell_type": "markdown",
   "id": "83ebd2f1",
   "metadata": {},
   "source": [
    "#### Seem like momentum effect does not persist"
   ]
  },
  {
   "cell_type": "code",
   "execution_count": 27,
   "id": "90241eab",
   "metadata": {},
   "outputs": [
    {
     "data": {
      "text/plain": [
       "0.3556531284302964"
      ]
     },
     "execution_count": 27,
     "metadata": {},
     "output_type": "execute_result"
    }
   ],
   "source": [
    "accuracy_score(combined['preYearMomentum'], combined['MomentumEffect'])"
   ]
  },
  {
   "cell_type": "code",
   "execution_count": 28,
   "id": "29000d88",
   "metadata": {},
   "outputs": [],
   "source": [
    "combined.drop_duplicates(['Symbol'], keep='first', inplace=True)"
   ]
  },
  {
   "cell_type": "code",
   "execution_count": 29,
   "id": "22af408b",
   "metadata": {},
   "outputs": [],
   "source": [
    "combined['PE_category']=combined['PE'].apply(lambda x: 1 if (x>0 and x<15) else (0 if x>0 and x<40 else -1))"
   ]
  },
  {
   "cell_type": "code",
   "execution_count": 30,
   "id": "f07b1d46",
   "metadata": {},
   "outputs": [],
   "source": [
    "combined['PE_category']=combined['PE'].apply(lambda x: 'High' if (x>0 and x<15) else 'Low')"
   ]
  },
  {
   "cell_type": "code",
   "execution_count": 31,
   "id": "8841f648",
   "metadata": {},
   "outputs": [
    {
     "data": {
      "text/html": [
       "<div>\n",
       "<style scoped>\n",
       "    .dataframe tbody tr th:only-of-type {\n",
       "        vertical-align: middle;\n",
       "    }\n",
       "\n",
       "    .dataframe tbody tr th {\n",
       "        vertical-align: top;\n",
       "    }\n",
       "\n",
       "    .dataframe thead th {\n",
       "        text-align: right;\n",
       "    }\n",
       "</style>\n",
       "<table border=\"1\" class=\"dataframe\">\n",
       "  <thead>\n",
       "    <tr style=\"text-align: right;\">\n",
       "      <th></th>\n",
       "      <th>Unnamed: 0_x</th>\n",
       "      <th>Symbol</th>\n",
       "      <th>PE</th>\n",
       "      <th>EPSGrowth</th>\n",
       "      <th>RevenueGrowth</th>\n",
       "      <th>logMarketCap</th>\n",
       "      <th>PS</th>\n",
       "      <th>Sector</th>\n",
       "      <th>Sharpe</th>\n",
       "      <th>std</th>\n",
       "      <th>...</th>\n",
       "      <th>min_1</th>\n",
       "      <th>max_1</th>\n",
       "      <th>var_1</th>\n",
       "      <th>max_1_peroids</th>\n",
       "      <th>buyHold_1</th>\n",
       "      <th>maxDrawBack</th>\n",
       "      <th>MomentumEffect</th>\n",
       "      <th>preYearMomentum</th>\n",
       "      <th>Year</th>\n",
       "      <th>PE_category</th>\n",
       "    </tr>\n",
       "  </thead>\n",
       "  <tbody>\n",
       "    <tr>\n",
       "      <th>0</th>\n",
       "      <td>0</td>\n",
       "      <td>A</td>\n",
       "      <td>28.447257</td>\n",
       "      <td>0.196970</td>\n",
       "      <td>0.064255</td>\n",
       "      <td>10</td>\n",
       "      <td>4.684263</td>\n",
       "      <td>Healthcare</td>\n",
       "      <td>2.675440</td>\n",
       "      <td>0.164655</td>\n",
       "      <td>...</td>\n",
       "      <td>-0.336212</td>\n",
       "      <td>-0.045040</td>\n",
       "      <td>6.318015</td>\n",
       "      <td>(11, 140)</td>\n",
       "      <td>-1.601901</td>\n",
       "      <td>13.808617</td>\n",
       "      <td>-1</td>\n",
       "      <td>0</td>\n",
       "      <td>2018</td>\n",
       "      <td>Low</td>\n",
       "    </tr>\n",
       "    <tr>\n",
       "      <th>1</th>\n",
       "      <td>0</td>\n",
       "      <td>AAL</td>\n",
       "      <td>10.679592</td>\n",
       "      <td>-0.140351</td>\n",
       "      <td>0.050448</td>\n",
       "      <td>10</td>\n",
       "      <td>0.793000</td>\n",
       "      <td>Industrials</td>\n",
       "      <td>0.431699</td>\n",
       "      <td>0.286677</td>\n",
       "      <td>...</td>\n",
       "      <td>-0.286046</td>\n",
       "      <td>0.098800</td>\n",
       "      <td>9.119530</td>\n",
       "      <td>(5, 50)</td>\n",
       "      <td>-38.677625</td>\n",
       "      <td>11.761279</td>\n",
       "      <td>-1</td>\n",
       "      <td>-1</td>\n",
       "      <td>2018</td>\n",
       "      <td>High</td>\n",
       "    </tr>\n",
       "    <tr>\n",
       "      <th>2</th>\n",
       "      <td>0</td>\n",
       "      <td>AAP</td>\n",
       "      <td>18.754647</td>\n",
       "      <td>-0.246499</td>\n",
       "      <td>-0.020266</td>\n",
       "      <td>9</td>\n",
       "      <td>0.719693</td>\n",
       "      <td>Consumer Cyclical</td>\n",
       "      <td>-1.026959</td>\n",
       "      <td>0.404739</td>\n",
       "      <td>...</td>\n",
       "      <td>-0.042957</td>\n",
       "      <td>0.420985</td>\n",
       "      <td>11.629514</td>\n",
       "      <td>(3, 80)</td>\n",
       "      <td>54.658078</td>\n",
       "      <td>8.799882</td>\n",
       "      <td>1</td>\n",
       "      <td>0</td>\n",
       "      <td>2018</td>\n",
       "      <td>Low</td>\n",
       "    </tr>\n",
       "  </tbody>\n",
       "</table>\n",
       "<p>3 rows × 23 columns</p>\n",
       "</div>"
      ],
      "text/plain": [
       "   Unnamed: 0_x Symbol         PE  EPSGrowth  RevenueGrowth  logMarketCap  \\\n",
       "0             0      A  28.447257   0.196970       0.064255            10   \n",
       "1             0    AAL  10.679592  -0.140351       0.050448            10   \n",
       "2             0    AAP  18.754647  -0.246499      -0.020266             9   \n",
       "\n",
       "         PS             Sector    Sharpe       std  ...     min_1     max_1  \\\n",
       "0  4.684263         Healthcare  2.675440  0.164655  ... -0.336212 -0.045040   \n",
       "1  0.793000        Industrials  0.431699  0.286677  ... -0.286046  0.098800   \n",
       "2  0.719693  Consumer Cyclical -1.026959  0.404739  ... -0.042957  0.420985   \n",
       "\n",
       "       var_1  max_1_peroids  buyHold_1  maxDrawBack MomentumEffect  \\\n",
       "0   6.318015      (11, 140)  -1.601901    13.808617             -1   \n",
       "1   9.119530        (5, 50) -38.677625    11.761279             -1   \n",
       "2  11.629514        (3, 80)  54.658078     8.799882              1   \n",
       "\n",
       "   preYearMomentum  Year  PE_category  \n",
       "0                0  2018          Low  \n",
       "1               -1  2018         High  \n",
       "2                0  2018          Low  \n",
       "\n",
       "[3 rows x 23 columns]"
      ]
     },
     "execution_count": 31,
     "metadata": {},
     "output_type": "execute_result"
    }
   ],
   "source": [
    "combined.head(3)"
   ]
  },
  {
   "cell_type": "code",
   "execution_count": 32,
   "id": "7c88d10b",
   "metadata": {},
   "outputs": [],
   "source": [
    "# categorizeColumns=['EPSGrowth', 'PS', 'std', 'CorWithBenchMark', 'logMarketCap','Sharpe']\n",
    "categorizeColumns=['PS', 'std','CorWithBenchMark','Sharpe', 'RevenueGrowth','LiquidityRate','preYearMomentum']"
   ]
  },
  {
   "cell_type": "code",
   "execution_count": 33,
   "id": "4b1a3b5f",
   "metadata": {},
   "outputs": [],
   "source": [
    "for col in categorizeColumns:\n",
    "    quantile=combined[col].quantile(0.5)\n",
    "    combined[col+'_category']=combined[col].apply(lambda x: 1 if x>= quantile else -1)"
   ]
  },
  {
   "cell_type": "code",
   "execution_count": 288,
   "id": "c912f35e",
   "metadata": {},
   "outputs": [],
   "source": [
    "combined.replace([np.inf, -np.inf], 0, inplace=True)\n",
    "combined=combined[combined['PS']<100]\n",
    "combined.dropna(inplace=True)"
   ]
  },
  {
   "cell_type": "code",
   "execution_count": 35,
   "id": "218a85c7",
   "metadata": {},
   "outputs": [],
   "source": [
    "# X=combined[categorizeColumns]\n",
    "X=combined[[cat+'_category' for cat in categorizeColumns] +['PS']]\n",
    "Y=combined[\"MomentumEffect\"]"
   ]
  },
  {
   "cell_type": "code",
   "execution_count": 36,
   "id": "672a0a69",
   "metadata": {},
   "outputs": [
    {
     "data": {
      "text/html": [
       "<div>\n",
       "<style scoped>\n",
       "    .dataframe tbody tr th:only-of-type {\n",
       "        vertical-align: middle;\n",
       "    }\n",
       "\n",
       "    .dataframe tbody tr th {\n",
       "        vertical-align: top;\n",
       "    }\n",
       "\n",
       "    .dataframe thead th {\n",
       "        text-align: right;\n",
       "    }\n",
       "</style>\n",
       "<table border=\"1\" class=\"dataframe\">\n",
       "  <thead>\n",
       "    <tr style=\"text-align: right;\">\n",
       "      <th></th>\n",
       "      <th>PS_category</th>\n",
       "      <th>std_category</th>\n",
       "      <th>CorWithBenchMark_category</th>\n",
       "      <th>Sharpe_category</th>\n",
       "      <th>RevenueGrowth_category</th>\n",
       "      <th>LiquidityRate_category</th>\n",
       "      <th>preYearMomentum_category</th>\n",
       "      <th>PS</th>\n",
       "    </tr>\n",
       "  </thead>\n",
       "  <tbody>\n",
       "    <tr>\n",
       "      <th>0</th>\n",
       "      <td>1</td>\n",
       "      <td>-1</td>\n",
       "      <td>1</td>\n",
       "      <td>1</td>\n",
       "      <td>-1</td>\n",
       "      <td>1</td>\n",
       "      <td>1</td>\n",
       "      <td>4.684263</td>\n",
       "    </tr>\n",
       "    <tr>\n",
       "      <th>1</th>\n",
       "      <td>-1</td>\n",
       "      <td>1</td>\n",
       "      <td>1</td>\n",
       "      <td>-1</td>\n",
       "      <td>-1</td>\n",
       "      <td>1</td>\n",
       "      <td>-1</td>\n",
       "      <td>0.793000</td>\n",
       "    </tr>\n",
       "    <tr>\n",
       "      <th>2</th>\n",
       "      <td>-1</td>\n",
       "      <td>1</td>\n",
       "      <td>-1</td>\n",
       "      <td>-1</td>\n",
       "      <td>-1</td>\n",
       "      <td>1</td>\n",
       "      <td>1</td>\n",
       "      <td>0.719693</td>\n",
       "    </tr>\n",
       "  </tbody>\n",
       "</table>\n",
       "</div>"
      ],
      "text/plain": [
       "   PS_category  std_category  CorWithBenchMark_category  Sharpe_category  \\\n",
       "0            1            -1                          1                1   \n",
       "1           -1             1                          1               -1   \n",
       "2           -1             1                         -1               -1   \n",
       "\n",
       "   RevenueGrowth_category  LiquidityRate_category  preYearMomentum_category  \\\n",
       "0                      -1                       1                         1   \n",
       "1                      -1                       1                        -1   \n",
       "2                      -1                       1                         1   \n",
       "\n",
       "         PS  \n",
       "0  4.684263  \n",
       "1  0.793000  \n",
       "2  0.719693  "
      ]
     },
     "execution_count": 36,
     "metadata": {},
     "output_type": "execute_result"
    }
   ],
   "source": [
    "# quantile_PS=X['PS'].quantile([0.25, 0.75])\n",
    "X.head(3)"
   ]
  },
  {
   "cell_type": "code",
   "execution_count": 37,
   "id": "5915a71c",
   "metadata": {},
   "outputs": [
    {
     "data": {
      "text/plain": [
       "-1    348\n",
       " 1    287\n",
       " 0    262\n",
       "Name: MomentumEffect, dtype: int64"
      ]
     },
     "execution_count": 37,
     "metadata": {},
     "output_type": "execute_result"
    }
   ],
   "source": [
    "Y.value_counts()"
   ]
  },
  {
   "cell_type": "code",
   "execution_count": 38,
   "id": "1cdf1c6a",
   "metadata": {},
   "outputs": [
    {
     "name": "stdout",
     "output_type": "stream",
     "text": [
      "<class 'pandas.core.frame.DataFrame'>\n",
      "Int64Index: 897 entries, 0 to 910\n",
      "Data columns (total 8 columns):\n",
      " #   Column                     Non-Null Count  Dtype  \n",
      "---  ------                     --------------  -----  \n",
      " 0   PS_category                897 non-null    int64  \n",
      " 1   std_category               897 non-null    int64  \n",
      " 2   CorWithBenchMark_category  897 non-null    int64  \n",
      " 3   Sharpe_category            897 non-null    int64  \n",
      " 4   RevenueGrowth_category     897 non-null    int64  \n",
      " 5   LiquidityRate_category     897 non-null    int64  \n",
      " 6   preYearMomentum_category   897 non-null    int64  \n",
      " 7   PS                         897 non-null    float64\n",
      "dtypes: float64(1), int64(7)\n",
      "memory usage: 63.1 KB\n"
     ]
    }
   ],
   "source": [
    "X.info()"
   ]
  },
  {
   "cell_type": "code",
   "execution_count": 39,
   "id": "896ddf9a",
   "metadata": {},
   "outputs": [
    {
     "name": "stdout",
     "output_type": "stream",
     "text": [
      "<class 'pandas.core.frame.DataFrame'>\n",
      "Int64Index: 897 entries, 0 to 910\n",
      "Data columns (total 1 columns):\n",
      " #   Column          Non-Null Count  Dtype\n",
      "---  ------          --------------  -----\n",
      " 0   MomentumEffect  897 non-null    int64\n",
      "dtypes: int64(1)\n",
      "memory usage: 14.0 KB\n"
     ]
    }
   ],
   "source": [
    "pd.DataFrame(Y).info()"
   ]
  },
  {
   "cell_type": "code",
   "execution_count": 86,
   "id": "edfb05b6",
   "metadata": {},
   "outputs": [],
   "source": [
    "Y = np.array(Y)"
   ]
  },
  {
   "cell_type": "code",
   "execution_count": 91,
   "id": "eee3db3e",
   "metadata": {},
   "outputs": [],
   "source": [
    "Y = [Y[i] if Y[i]>=0 else 2 for i in range(len(Y))]"
   ]
  },
  {
   "cell_type": "markdown",
   "id": "864b8300",
   "metadata": {},
   "source": [
    "### Train, Valid, Test Split"
   ]
  },
  {
   "cell_type": "code",
   "execution_count": 172,
   "id": "daab4dc3",
   "metadata": {},
   "outputs": [],
   "source": [
    "X_t, X_val, Y_t, Y_val= train_test_split(X,Y, test_size=0.3,stratify=Y)\n",
    "X_valid, X_test, Y_valid, Y_test = train_test_split(X_val, Y_val, test_size=0.5,stratify=Y_val)"
   ]
  },
  {
   "cell_type": "code",
   "execution_count": 173,
   "id": "16dd5cdf",
   "metadata": {},
   "outputs": [
    {
     "data": {
      "text/plain": [
       "(627, 135, 135)"
      ]
     },
     "execution_count": 173,
     "metadata": {},
     "output_type": "execute_result"
    }
   ],
   "source": [
    "len(X_t), len(X_valid), len(X_test)"
   ]
  },
  {
   "cell_type": "code",
   "execution_count": 174,
   "id": "f92b0383",
   "metadata": {},
   "outputs": [
    {
     "data": {
      "text/plain": [
       "(2    243\n",
       " 1    201\n",
       " 0    183\n",
       " dtype: int64,\n",
       " 2    52\n",
       " 1    43\n",
       " 0    40\n",
       " dtype: int64,\n",
       " 2    53\n",
       " 1    43\n",
       " 0    39\n",
       " dtype: int64)"
      ]
     },
     "execution_count": 174,
     "metadata": {},
     "output_type": "execute_result"
    }
   ],
   "source": [
    "pd.Series(Y_t).value_counts(), pd.Series(Y_valid).value_counts(), pd.Series(Y_test).value_counts()"
   ]
  },
  {
   "cell_type": "markdown",
   "id": "8472b60d",
   "metadata": {},
   "source": [
    "### Decision Tree and Random Forest"
   ]
  },
  {
   "cell_type": "code",
   "execution_count": 175,
   "id": "9dd6ec48",
   "metadata": {},
   "outputs": [
    {
     "data": {
      "text/plain": [
       "DecisionTreeClassifier(max_depth=20, min_impurity_decrease=0.001,\n",
       "                       min_samples_leaf=20)"
      ]
     },
     "execution_count": 175,
     "metadata": {},
     "output_type": "execute_result"
    }
   ],
   "source": [
    "model=DecisionTreeClassifier(min_samples_leaf=20, max_depth=20, min_impurity_decrease=0.001)\n",
    "model.fit(X_t,Y_t)"
   ]
  },
  {
   "cell_type": "code",
   "execution_count": 176,
   "id": "2b1ef0c0",
   "metadata": {},
   "outputs": [
    {
     "data": {
      "text/plain": [
       "(0.5311004784688995, 0.40370370370370373)"
      ]
     },
     "execution_count": 176,
     "metadata": {},
     "output_type": "execute_result"
    }
   ],
   "source": [
    "prediction=model.predict(X_val)\n",
    "train_predict=model.predict(X_t)\n",
    "accuracy_score(train_predict, Y_t), accuracy_score(prediction, Y_val)\n"
   ]
  },
  {
   "cell_type": "code",
   "execution_count": 177,
   "id": "c5502490",
   "metadata": {},
   "outputs": [],
   "source": [
    "dot_data=export_graphviz(model, out_file=None,feature_names= X.columns)\n",
    "graph=pydotplus.graph_from_dot_data(dot_data)\n",
    "# graph.write_pdf(\"dt_tree.pdf\")"
   ]
  },
  {
   "cell_type": "code",
   "execution_count": 178,
   "id": "56714103",
   "metadata": {},
   "outputs": [
    {
     "data": {
      "text/plain": [
       "True"
      ]
     },
     "execution_count": 178,
     "metadata": {},
     "output_type": "execute_result"
    }
   ],
   "source": [
    "graph.write_pdf(\"dt_tree.pdf\")"
   ]
  },
  {
   "cell_type": "code",
   "execution_count": 179,
   "id": "111d04ee",
   "metadata": {},
   "outputs": [
    {
     "data": {
      "text/plain": [
       "(0.43333333333333335, 0.49122807017543857)"
      ]
     },
     "execution_count": 179,
     "metadata": {},
     "output_type": "execute_result"
    }
   ],
   "source": [
    "forest=RandomForestClassifier(min_samples_leaf=30, max_depth=8, n_jobs=1000, max_features=5)\n",
    "forest.fit(X_t,Y_t)\n",
    "pred_forest=forest.predict(X_val)\n",
    "accuracy_score(pred_forest, Y_val), accuracy_score(forest.predict(X_t), Y_t)"
   ]
  },
  {
   "cell_type": "code",
   "execution_count": 180,
   "id": "ca525e68",
   "metadata": {},
   "outputs": [
    {
     "data": {
      "text/plain": [
       "Index(['PS_category', 'std_category', 'CorWithBenchMark_category',\n",
       "       'Sharpe_category', 'RevenueGrowth_category', 'LiquidityRate_category',\n",
       "       'preYearMomentum_category', 'PS'],\n",
       "      dtype='object')"
      ]
     },
     "execution_count": 180,
     "metadata": {},
     "output_type": "execute_result"
    }
   ],
   "source": [
    "X.columns"
   ]
  },
  {
   "cell_type": "markdown",
   "id": "81c99c1d",
   "metadata": {},
   "source": [
    "### Xgboost"
   ]
  },
  {
   "cell_type": "code",
   "execution_count": 278,
   "id": "5e53ad9d",
   "metadata": {},
   "outputs": [
    {
     "name": "stdout",
     "output_type": "stream",
     "text": [
      "Fitting 5 folds for each of 720 candidates, totalling 3600 fits\n",
      "{'gamma': 0.25, 'learning_rate': 0.025, 'max_depth': 5, 'reg_lambda': 3}\n"
     ]
    },
    {
     "name": "stderr",
     "output_type": "stream",
     "text": [
      "C:\\Users\\tao\\Anaconda3\\lib\\site-packages\\xgboost\\sklearn.py:1224: UserWarning: The use of label encoder in XGBClassifier is deprecated and will be removed in a future release. To remove this warning, do the following: 1) Pass option use_label_encoder=False when constructing XGBClassifier object; and 2) Encode your labels (y) as integers starting with 0, i.e. 0, 1, 2, ..., [num_class - 1].\n",
      "  warnings.warn(label_encoder_deprecation_msg, UserWarning)\n"
     ]
    }
   ],
   "source": [
    "param_grid = {\n",
    "    'max_depth': [i for i in range(1,9)],\n",
    "    'learning_rate': [0.05, 0.025, 0.075],\n",
    "    'gamma': [0, 0.25, 0.5, 1.0, 1.5],\n",
    "    'reg_lambda': [i for i in range(6)],\n",
    "}\n",
    "optimal_params = GridSearchCV(\n",
    "    estimator=xgb.XGBClassifier(objective=\"multi:softmax\",\n",
    "                                num_class=3,\n",
    "                                eval_metric=\"merror\", ## this avoids a warning...\n",
    "                                seed=35,\n",
    "                                subsample=0.8,\n",
    "                                colsample_bytree=1),\n",
    "    param_grid=param_grid,\n",
    "    scoring='accuracy',\n",
    "    verbose=2, \n",
    "    n_jobs = 10,\n",
    "    cv = 5\n",
    ")\n",
    "optimal_params.fit(X_t,\n",
    "                 Y_t,\n",
    "                verbose=False,\n",
    "                early_stopping_rounds=30,\n",
    "                eval_metric='merror',\n",
    "                eval_set=[(X_valid, Y_valid)])\n",
    "print(optimal_params.best_params_)\n"
   ]
  },
  {
   "cell_type": "code",
   "execution_count": 279,
   "id": "e66e456f",
   "metadata": {},
   "outputs": [],
   "source": [
    "model_xgb_opt = xgb.XGBRegressor(objective='multi:softmax', \n",
    "                                 num_class=3,\n",
    "                            eval_metric=\"merror\", max_depth = 5,\n",
    "                                learning_rate=0.025,\n",
    "                                gamma=0.25,\n",
    "                                reg_lambda=3)"
   ]
  },
  {
   "cell_type": "code",
   "execution_count": 280,
   "id": "7bae6824",
   "metadata": {},
   "outputs": [
    {
     "data": {
      "text/plain": [
       "XGBRegressor(base_score=0.5, booster='gbtree', colsample_bylevel=1,\n",
       "             colsample_bynode=1, colsample_bytree=1, enable_categorical=False,\n",
       "             eval_metric='merror', gamma=0.25, gpu_id=-1, importance_type=None,\n",
       "             interaction_constraints='', learning_rate=0.025, max_delta_step=0,\n",
       "             max_depth=5, min_child_weight=1, missing=nan,\n",
       "             monotone_constraints='()', n_estimators=100, n_jobs=16,\n",
       "             num_class=3, num_parallel_tree=1, objective='multi:softmax',\n",
       "             predictor='auto', random_state=0, reg_alpha=0, reg_lambda=3,\n",
       "             scale_pos_weight=None, subsample=1, tree_method='exact',\n",
       "             validate_parameters=1, ...)"
      ]
     },
     "execution_count": 280,
     "metadata": {},
     "output_type": "execute_result"
    }
   ],
   "source": [
    "model_xgb_opt.fit(X_t,\n",
    "                 Y_t,\n",
    "                verbose=False,\n",
    "                early_stopping_rounds=20,\n",
    "                eval_metric='merror',\n",
    "                eval_set=[(X_valid, Y_valid)])"
   ]
  },
  {
   "cell_type": "code",
   "execution_count": 281,
   "id": "690e1b2c",
   "metadata": {},
   "outputs": [
    {
     "data": {
      "text/plain": [
       "0.5037037037037037"
      ]
     },
     "execution_count": 281,
     "metadata": {},
     "output_type": "execute_result"
    }
   ],
   "source": [
    "accuracy_score(model_xgb_opt.predict(X_test), Y_test)"
   ]
  },
  {
   "cell_type": "markdown",
   "id": "f1de8e07",
   "metadata": {},
   "source": [
    "### Which factor is the most important?"
   ]
  },
  {
   "cell_type": "code",
   "execution_count": 295,
   "id": "02e5a750",
   "metadata": {},
   "outputs": [
    {
     "data": {
      "text/plain": [
       "array([0.054373  , 0.15146916, 0.12125546, 0.07521563, 0.05680757,\n",
       "       0.38305303, 0.04694186, 0.11088426], dtype=float32)"
      ]
     },
     "execution_count": 295,
     "metadata": {},
     "output_type": "execute_result"
    }
   ],
   "source": [
    "model_xgb_opt.feature_importances_"
   ]
  },
  {
   "cell_type": "code",
   "execution_count": 304,
   "id": "cb208fe4",
   "metadata": {},
   "outputs": [
    {
     "data": {
      "image/png": "[encoded data removed]",
      "text/plain": [
       "<Figure size 1440x720 with 1 Axes>"
      ]
     },
     "metadata": {
      "needs_background": "light"
     },
     "output_type": "display_data"
    }
   ],
   "source": [
    "from matplotlib import pyplot as plt\n",
    "\n",
    "model_xgb_opt.feature_importances_\n",
    "plt.figure(figsize=(20,10))\n",
    "plt.bar(range(len(model_xgb_opt.feature_importances_)), (model_xgb_opt.feature_importances_))\n",
    "_ = plt.xticks(range(len(model_xgb_opt.feature_importances_)), list(X.columns))"
   ]
  },
  {
   "cell_type": "code",
   "execution_count": 301,
   "id": "d3a3f91b",
   "metadata": {},
   "outputs": [
    {
     "data": {
      "text/plain": [
       "Index(['Unnamed: 0', 'Symbol', 'PE', 'EPSGrowth', 'RevenueGrowth',\n",
       "       'logMarketCap', 'PS', 'Sector', 'Sharpe', 'std', 'LiquidityRate',\n",
       "       'CorWithBenchMark'],\n",
       "      dtype='object')"
      ]
     },
     "execution_count": 301,
     "metadata": {},
     "output_type": "execute_result"
    }
   ],
   "source": [
    "features.columns"
   ]
  },
  {
   "cell_type": "markdown",
   "id": "3cc5e5fa",
   "metadata": {},
   "source": [
    "### Summary\n",
    "We improve our test score to 0.50 for 3 categories. We also want to see which factors are the most important."
   ]
  },
  {
   "cell_type": "code",
   "execution_count": null,
   "id": "9720cda2",
   "metadata": {},
   "outputs": [],
   "source": []
  }
 ],
 "metadata": {
  "kernelspec": {
   "display_name": "Python 3 (ipykernel)",
   "language": "python",
   "name": "python3"
  },
  "language_info": {
   "codemirror_mode": {
    "name": "ipython",
    "version": 3
   },
   "file_extension": ".py",
   "mimetype": "text/x-python",
   "name": "python",
   "nbconvert_exporter": "python",
   "pygments_lexer": "ipython3",
   "version": "3.8.8"
  }
 },
 "nbformat": 4,
 "nbformat_minor": 5
}
